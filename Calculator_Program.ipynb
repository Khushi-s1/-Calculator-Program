{
  "nbformat": 4,
  "nbformat_minor": 0,
  "metadata": {
    "colab": {
      "provenance": []
    },
    "kernelspec": {
      "name": "python3",
      "display_name": "Python 3"
    },
    "language_info": {
      "name": "python"
    }
  },
  "cells": [
    {
      "cell_type": "markdown",
      "source": [
        "Level-1 Task-4 Calculator Program\n",
        "\n",
        "Create a Python program that acts as a basic calculator. It should prompt the user to enter two numbers and an operator (+, -, *, /, %), and then display the result of the operation."
      ],
      "metadata": {
        "id": "Gay8Lm8LGPa4"
      }
    },
    {
      "cell_type": "code",
      "source": [
        "def add(x, y):\n",
        "    return x + y"
      ],
      "metadata": {
        "id": "V_4DEBo3DX_1"
      },
      "execution_count": 1,
      "outputs": []
    },
    {
      "cell_type": "code",
      "source": [
        "def subtract(x, y):\n",
        "    return x - y"
      ],
      "metadata": {
        "id": "sXcwRCIODX8h"
      },
      "execution_count": 2,
      "outputs": []
    },
    {
      "cell_type": "code",
      "source": [
        "def multiply(x, y):\n",
        "    return x * y"
      ],
      "metadata": {
        "id": "UBPa_xaCDX5Z"
      },
      "execution_count": 3,
      "outputs": []
    },
    {
      "cell_type": "code",
      "source": [
        "def divide(x, y):\n",
        "    if y == 0:\n",
        "        return \"Error! Division by zero is not allowed.\"\n",
        "    else:\n",
        "        return x / y"
      ],
      "metadata": {
        "id": "zFPY0jWCDXt3"
      },
      "execution_count": 4,
      "outputs": []
    },
    {
      "cell_type": "code",
      "source": [
        "def modulus(x, y):\n",
        "    if y == 0:\n",
        "        return \"Error! Division by zero is not allowed.\"\n",
        "    else:\n",
        "        return x % y"
      ],
      "metadata": {
        "id": "wlZarHikDupZ"
      },
      "execution_count": 5,
      "outputs": []
    },
    {
      "cell_type": "code",
      "source": [
        "def main():\n",
        "    print(\"Welcome to the Basic Calculator program!\")\n",
        "    print(\"Operations supported: +, -, *, /, %\")\n",
        "\n",
        "    num1 = float(input(\"Enter the first number: \"))\n",
        "    num2 = float(input(\"Enter the second number: \"))\n",
        "    operator = input(\"Enter the operator (+, -, *, /, %): \")\n",
        "\n",
        "    if operator == '+':\n",
        "        result = add(num1, num2)\n",
        "    elif operator == '-':\n",
        "        result = subtract(num1, num2)\n",
        "    elif operator == '*':\n",
        "        result = multiply(num1, num2)\n",
        "    elif operator == '/':\n",
        "        result = divide(num1, num2)\n",
        "    elif operator == '%':\n",
        "        result = modulus(num1, num2)\n",
        "    else:\n",
        "        print(\"Invalid operator. Please enter one of '+', '-', '*', '/', '%'\")\n",
        "        return\n",
        "\n",
        "    print(f\"Result: {num1} {operator} {num2} = {result}\")\n",
        "\n",
        "if __name__ == \"__main__\":\n",
        "    main()\n"
      ],
      "metadata": {
        "colab": {
          "base_uri": "https://localhost:8080/"
        },
        "id": "SlVeeNZZDukS",
        "outputId": "1b50b78d-89fd-4042-9f62-e02588b6de4c"
      },
      "execution_count": 6,
      "outputs": [
        {
          "output_type": "stream",
          "name": "stdout",
          "text": [
            "Welcome to the Basic Calculator program!\n",
            "Operations supported: +, -, *, /, %\n",
            "Enter the first number: 5\n",
            "Enter the second number: 2\n",
            "Enter the operator (+, -, *, /, %): -\n",
            "Result: 5.0 - 2.0 = 3.0\n"
          ]
        }
      ]
    }
  ]
}